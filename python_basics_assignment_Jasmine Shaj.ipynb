{
 "cells": [
  {
   "cell_type": "markdown",
   "id": "d2328cad",
   "metadata": {},
   "source": [
    "# Python Basics Assignment\n",
    "\n",
    "This notebook contains 20 basic Python questions.  \n",
    "Each question carries **1 mark**. Write your answer in the cell provided.  \n"
   ]
  },
  {
   "cell_type": "markdown",
   "id": "cb537954",
   "metadata": {},
   "source": [
    "### Question 1\n",
    "Write a function that returns the square of a number."
   ]
  },
  {
   "cell_type": "code",
   "execution_count": 5,
   "id": "cf213ba2",
   "metadata": {},
   "outputs": [
    {
     "name": "stdin",
     "output_type": "stream",
     "text": [
      "Enter the number 5\n"
     ]
    },
    {
     "name": "stdout",
     "output_type": "stream",
     "text": [
      "Square of 5.0 = 25.0\n"
     ]
    }
   ],
   "source": [
    "# Your code here\n",
    "def square(a):\n",
    "    sq=a*a\n",
    "    return sq\n",
    "num=float(input(\"Enter the number\"))\n",
    "print(\"Square of\",num,\"=\",square(num))"
   ]
  },
  {
   "cell_type": "markdown",
   "id": "4eaff430",
   "metadata": {},
   "source": [
    "### Question 2\n",
    "Write a function that checks whether a number is even."
   ]
  },
  {
   "cell_type": "code",
   "execution_count": 6,
   "id": "81934cf7",
   "metadata": {},
   "outputs": [
    {
     "name": "stdin",
     "output_type": "stream",
     "text": [
      "Enter the number 6\n"
     ]
    },
    {
     "name": "stdout",
     "output_type": "stream",
     "text": [
      "6 is even Number\n"
     ]
    }
   ],
   "source": [
    "# Your code here\n",
    "def even(a):\n",
    "    if (a%2 == 0) :\n",
    "        print(a,\"is even Number\")\n",
    "    else:\n",
    "        print(a,\"is not an even number\")\n",
    "\n",
    "num=int(input(\"Enter the number\"))\n",
    "even(num)"
   ]
  },
  {
   "cell_type": "markdown",
   "id": "5f061e50",
   "metadata": {},
   "source": [
    "### Question 3\n",
    "Write a function to return the maximum of two numbers."
   ]
  },
  {
   "cell_type": "code",
   "execution_count": 7,
   "id": "44e2a596",
   "metadata": {},
   "outputs": [
    {
     "name": "stdin",
     "output_type": "stream",
     "text": [
      "Enter the number1 4\n",
      "Enter the number2 10\n"
     ]
    },
    {
     "name": "stdout",
     "output_type": "stream",
     "text": [
      "10.0 is maximum\n"
     ]
    }
   ],
   "source": [
    "# Your code here\n",
    "def max_num(num1,num2):\n",
    "    if(num1>num2):\n",
    "        print(num1,\"is maximum\")\n",
    "    elif(num2>num1):\n",
    "        print(num2,\"is maximum\")\n",
    "    else:\n",
    "        print(\"Both numbers are same. Hence no maximum.\")\n",
    "num1=float(input(\"Enter the number1\"))\n",
    "num2=float(input(\"Enter the number2\"))\n",
    "max_num(num1, num2)"
   ]
  },
  {
   "cell_type": "markdown",
   "id": "7513ca91",
   "metadata": {},
   "source": [
    "### Question 4\n",
    "Write a function to return the factorial of a number."
   ]
  },
  {
   "cell_type": "code",
   "execution_count": 8,
   "id": "6617842f",
   "metadata": {},
   "outputs": [
    {
     "name": "stdin",
     "output_type": "stream",
     "text": [
      "Enter the number 6\n"
     ]
    },
    {
     "name": "stdout",
     "output_type": "stream",
     "text": [
      "Factorial of 6 = 720\n"
     ]
    }
   ],
   "source": [
    "# Your code here\n",
    "def fact_fn(num):\n",
    "    f=1\n",
    "    for i in range(1,num+1):\n",
    "        f=f*i\n",
    "    return f\n",
    "num=int(input(\"Enter the number\"))\n",
    "print(\"Factorial of\",num,\"=\",fact_fn(num))"
   ]
  },
  {
   "cell_type": "markdown",
   "id": "9b942098",
   "metadata": {},
   "source": [
    "### Question 5\n",
    "Write a function to reverse a string."
   ]
  },
  {
   "cell_type": "code",
   "execution_count": 9,
   "id": "d606b194",
   "metadata": {},
   "outputs": [
    {
     "name": "stdin",
     "output_type": "stream",
     "text": [
      "Enter the string watermelon\n"
     ]
    },
    {
     "name": "stdout",
     "output_type": "stream",
     "text": [
      "Reverse of watermelon is nolemretaw\n"
     ]
    }
   ],
   "source": [
    "# Your code here\n",
    "def rev_str(text):\n",
    "    reverse=text[::-1]\n",
    "    print(\"Reverse of\",text,\"is\",reverse)\n",
    "text=str(input(\"Enter the string\"))\n",
    "rev_str(text)"
   ]
  },
  {
   "cell_type": "markdown",
   "id": "1abd915b",
   "metadata": {},
   "source": [
    "### Question 6\n",
    "Write a function to check if a string is a palindrome."
   ]
  },
  {
   "cell_type": "code",
   "execution_count": 10,
   "id": "2b868fb3",
   "metadata": {},
   "outputs": [
    {
     "name": "stdin",
     "output_type": "stream",
     "text": [
      "Enter the string malayalam\n"
     ]
    },
    {
     "name": "stdout",
     "output_type": "stream",
     "text": [
      "malayalam is palindrome\n"
     ]
    }
   ],
   "source": [
    "# Your code here\n",
    "def palindrome(text):\n",
    "    reverse=text[::-1]\n",
    "    if(reverse == text):\n",
    "        print(text,\"is palindrome\")\n",
    "    else:\n",
    "        print(text,\"is not palindrome\")\n",
    "text=str(input(\"Enter the string\"))\n",
    "palindrome(text)"
   ]
  },
  {
   "cell_type": "markdown",
   "id": "5f2f3791",
   "metadata": {},
   "source": [
    "### Question 7\n",
    "Write a function to count vowels in a string."
   ]
  },
  {
   "cell_type": "code",
   "execution_count": 11,
   "id": "73fefa50",
   "metadata": {},
   "outputs": [
    {
     "name": "stdin",
     "output_type": "stream",
     "text": [
      "Enter the string hello\n"
     ]
    },
    {
     "name": "stdout",
     "output_type": "stream",
     "text": [
      "Count of vowels in hello is 2\n"
     ]
    }
   ],
   "source": [
    "# Your code here\n",
    "def vowel(text):\n",
    "    vowels=[\"a\",\"e\",\"i\",\"o\",\"u\",\"A\",\"E\",\"I\",\"O\",\"U\"]\n",
    "    count=0\n",
    "    for char in text:\n",
    "        if(char in vowels):\n",
    "            count=count+1\n",
    "    print(\"Count of vowels in\",text,\"is\",count)\n",
    "text=str(input(\"Enter the string\"))\n",
    "vowel(text)"
   ]
  },
  {
   "cell_type": "markdown",
   "id": "0d3a9996",
   "metadata": {},
   "source": [
    "### Question 8\n",
    "Write a function that returns the sum of a list."
   ]
  },
  {
   "cell_type": "code",
   "execution_count": 12,
   "id": "ab6afc66",
   "metadata": {},
   "outputs": [
    {
     "name": "stdin",
     "output_type": "stream",
     "text": [
      "Enter the numbers with spaces 1 2 3 4\n"
     ]
    },
    {
     "name": "stdout",
     "output_type": "stream",
     "text": [
      "Sum of list = 10\n"
     ]
    }
   ],
   "source": [
    "# Your code here\n",
    "def list_sum(num_list):\n",
    "    sum=0\n",
    "    for s in num_list:\n",
    "        sum=sum+int(s)\n",
    "    return sum\n",
    "text=input(\"Enter the numbers with spaces\")\n",
    "num_list = [int(i) for i in text.split()]\n",
    "print(\"Sum of list =\",list_sum(num_list))"
   ]
  },
  {
   "cell_type": "markdown",
   "id": "f6682500",
   "metadata": {},
   "source": [
    "### Question 9\n",
    "Write a function to find the smallest number in a list."
   ]
  },
  {
   "cell_type": "code",
   "execution_count": 13,
   "id": "6798a641",
   "metadata": {},
   "outputs": [
    {
     "name": "stdin",
     "output_type": "stream",
     "text": [
      "Enter the numbers with spaces 4 1 6 82 3\n"
     ]
    },
    {
     "name": "stdout",
     "output_type": "stream",
     "text": [
      "Smallest number is 1\n"
     ]
    }
   ],
   "source": [
    "# Your code here\n",
    "def list_small(num_list):\n",
    "    small=num_list[0]    \n",
    "    for num in num_list:\n",
    "        if(num < small):\n",
    "            small=num\n",
    "    print(\"Smallest number is\",small)\n",
    "text=input(\"Enter the numbers with spaces\")\n",
    "num_list = [int(i) for i in text.split()]\n",
    "list_small(num_list)"
   ]
  },
  {
   "cell_type": "markdown",
   "id": "fb11e683",
   "metadata": {},
   "source": [
    "### Question 10\n",
    "Write a function to remove duplicates from a list."
   ]
  },
  {
   "cell_type": "code",
   "execution_count": 14,
   "id": "7c53f88c",
   "metadata": {},
   "outputs": [
    {
     "name": "stdin",
     "output_type": "stream",
     "text": [
      "Enter the numbers with spaces 10 32 65 10 49 32\n"
     ]
    },
    {
     "name": "stdout",
     "output_type": "stream",
     "text": [
      "[32, 65, 10, 49]\n"
     ]
    }
   ],
   "source": [
    "# Your code here\n",
    "def remove_duplicates(input_list):\n",
    "    return list(set(input_list))         # converting to set ,automatically removes duplicate values\n",
    "text=input(\"Enter the numbers with spaces\")\n",
    "num_list = [int(i) for i in text.split()]\n",
    "print(remove_duplicates(num_list))"
   ]
  },
  {
   "cell_type": "markdown",
   "id": "9c380a5c",
   "metadata": {},
   "source": [
    "### Question 11\n",
    "Write a function to sort a list in ascending order."
   ]
  },
  {
   "cell_type": "code",
   "execution_count": 15,
   "id": "8e43832f",
   "metadata": {},
   "outputs": [
    {
     "name": "stdin",
     "output_type": "stream",
     "text": [
      "Enter the numbers with spaces 5 3 10 2 6\n"
     ]
    },
    {
     "name": "stdout",
     "output_type": "stream",
     "text": [
      "Sorted List is  [2, 3, 5, 6, 10]\n"
     ]
    }
   ],
   "source": [
    "# Your code here\n",
    "def bubble_sort(num_list):\n",
    "    n=len(num_list)\n",
    "    for i in range(n):\n",
    "        for j in range(0,n-i-1):\n",
    "            if(num_list[j] > num_list[j+1]):\n",
    "                num_list[j],num_list[j+1] = num_list[j+1],num_list[j]\n",
    "    print(\"Sorted List is \",num_list)              \n",
    "text=input(\"Enter the numbers with spaces\")\n",
    "num_list = [int(i) for i in text.split()]\n",
    "bubble_sort(num_list)"
   ]
  },
  {
   "cell_type": "markdown",
   "id": "1270c91c",
   "metadata": {},
   "source": [
    "### Question 12\n",
    "Write a function that returns the length of a string."
   ]
  },
  {
   "cell_type": "code",
   "execution_count": 16,
   "id": "87f35472",
   "metadata": {},
   "outputs": [
    {
     "name": "stdin",
     "output_type": "stream",
     "text": [
      "Enter the string hello how are you\n"
     ]
    },
    {
     "name": "stdout",
     "output_type": "stream",
     "text": [
      "Length of string is  17\n"
     ]
    }
   ],
   "source": [
    "# Your code here\n",
    "def length_str(text):\n",
    "    count=0\n",
    "    for i in text:\n",
    "        count=count+1\n",
    "    return count   \n",
    "text=str(input(\"Enter the string\"))\n",
    "print(\"Length of string is \",length_str(text))"
   ]
  },
  {
   "cell_type": "markdown",
   "id": "9a8e3d28",
   "metadata": {},
   "source": [
    "### Question 13\n",
    "Write a function to count words in a sentence."
   ]
  },
  {
   "cell_type": "code",
   "execution_count": 17,
   "id": "e6f996ef",
   "metadata": {},
   "outputs": [
    {
     "name": "stdin",
     "output_type": "stream",
     "text": [
      "Enter sentence hi i'm Alexa\n"
     ]
    },
    {
     "name": "stdout",
     "output_type": "stream",
     "text": [
      "Word count of sentence is  3\n"
     ]
    }
   ],
   "source": [
    "# Your code here\n",
    "def length_str(num_list):\n",
    "    count=0\n",
    "    for i in num_list:\n",
    "        count = count + 1\n",
    "    print(\"Word count of sentence is \",count)    \n",
    "text=input(\"Enter sentence\")\n",
    "num_list = [str(i) for i in text.split()]\n",
    "length_str(num_list)"
   ]
  },
  {
   "cell_type": "markdown",
   "id": "430c2e4a",
   "metadata": {},
   "source": [
    "### Question 14\n",
    "Write a function to convert Celsius to Fahrenheit."
   ]
  },
  {
   "cell_type": "code",
   "execution_count": 18,
   "id": "b710b0bd",
   "metadata": {},
   "outputs": [
    {
     "name": "stdin",
     "output_type": "stream",
     "text": [
      "Enter temperature in celsius 5\n"
     ]
    },
    {
     "name": "stdout",
     "output_type": "stream",
     "text": [
      "Temperature in Fahrenheit = 41.0\n"
     ]
    }
   ],
   "source": [
    "# Your code here\n",
    "def fahrenheit(num):\n",
    "    f = (num * 1.8) + 32\n",
    "    print(\"Temperature in Fahrenheit =\",f)\n",
    "num=float(input(\"Enter temperature in celsius\"))\n",
    "fahrenheit(num)"
   ]
  },
  {
   "cell_type": "markdown",
   "id": "acefe5e3",
   "metadata": {},
   "source": [
    "### Question 15\n",
    "Write a function to check if a number is prime."
   ]
  },
  {
   "cell_type": "code",
   "execution_count": 19,
   "id": "b700abae",
   "metadata": {},
   "outputs": [
    {
     "name": "stdin",
     "output_type": "stream",
     "text": [
      "Enter the number 7\n"
     ]
    },
    {
     "name": "stdout",
     "output_type": "stream",
     "text": [
      "7 is prime number\n"
     ]
    }
   ],
   "source": [
    "# Your code here\n",
    "def prime(num):\n",
    "    if num <= 1:\n",
    "        return False      \n",
    "    for i in range(2,num):\n",
    "        if(num % i == 0):\n",
    "            return False\n",
    "    return True\n",
    "num=int(input(\"Enter the number\"))\n",
    "if prime(num):\n",
    "    print(num,\"is prime number\")\n",
    "else:\n",
    "    print(num,\"is not prime number\")"
   ]
  },
  {
   "cell_type": "markdown",
   "id": "b63452cb",
   "metadata": {},
   "source": [
    "### Question 16\n",
    "Write a function to return all even numbers in a list."
   ]
  },
  {
   "cell_type": "code",
   "execution_count": 20,
   "id": "9d1fc968",
   "metadata": {},
   "outputs": [
    {
     "name": "stdin",
     "output_type": "stream",
     "text": [
      "Enter the numbers with spaces 5 2 7 4 10 3\n"
     ]
    },
    {
     "name": "stdout",
     "output_type": "stream",
     "text": [
      "List of even numbers [2, 4, 10]\n"
     ]
    }
   ],
   "source": [
    "# Your code here\n",
    "def even_list(num_list):\n",
    "    even = []\n",
    "    for num in num_list:\n",
    "        if(num % 2 == 0):\n",
    "            even.append(num)\n",
    "    return even  \n",
    "text=input(\"Enter the numbers with spaces\")\n",
    "num_list = [int(i) for i in text.split()]\n",
    "print(\"List of even numbers\",even_list(num_list))"
   ]
  },
  {
   "cell_type": "markdown",
   "id": "aca524d9",
   "metadata": {},
   "source": [
    "### Question 17\n",
    "Write a function to return the nth Fibonacci number."
   ]
  },
  {
   "cell_type": "code",
   "execution_count": 21,
   "id": "97dc4e87",
   "metadata": {},
   "outputs": [
    {
     "name": "stdin",
     "output_type": "stream",
     "text": [
      "Enter the number 6\n"
     ]
    },
    {
     "name": "stdout",
     "output_type": "stream",
     "text": [
      "Fibonacci series is [0, 1, 1, 2, 3, 5]\n"
     ]
    }
   ],
   "source": [
    "# Your code here\n",
    "def fibonacci(num):\n",
    "    fib=[]\n",
    "    if (num == 1):\n",
    "        fib=[0]\n",
    "    elif (num == 2):\n",
    "        fib=[0,1]\n",
    "    elif (num > 2):\n",
    "        fib=[0,1]\n",
    "        for i in range(2,num):\n",
    "            fib.append(fib[i-1]+fib[i-2])\n",
    "        return fib    \n",
    "num=int(input(\"Enter the number\"))\n",
    "print(\"Fibonacci series is\",fibonacci(num))"
   ]
  },
  {
   "cell_type": "markdown",
   "id": "29c847dc",
   "metadata": {},
   "source": [
    "### Question 18\n",
    "Write a function to calculate the average of a list."
   ]
  },
  {
   "cell_type": "code",
   "execution_count": 22,
   "id": "9adc9fd2",
   "metadata": {},
   "outputs": [
    {
     "name": "stdin",
     "output_type": "stream",
     "text": [
      "Enter the numbers with spaces 4 3 5 7 10\n"
     ]
    },
    {
     "name": "stdout",
     "output_type": "stream",
     "text": [
      "Average of [4, 3, 5, 7, 10] is 5.8\n"
     ]
    }
   ],
   "source": [
    "# Your code here\n",
    "def average_list(num_list):\n",
    "    n=len(num_list)\n",
    "    sum=0\n",
    "    for num in num_list:\n",
    "        sum=sum+num\n",
    "    avg=sum/n\n",
    "    print(\"Average of\",num_list,\"is\",avg)\n",
    "text=input(\"Enter the numbers with spaces\")\n",
    "num_list = [int(i) for i in text.split()]\n",
    "average_list(num_list)"
   ]
  },
  {
   "cell_type": "markdown",
   "id": "420240fb",
   "metadata": {},
   "source": [
    "### Question 19\n",
    "Write a function that returns a dictionary of character counts."
   ]
  },
  {
   "cell_type": "code",
   "execution_count": 23,
   "id": "95cafc54",
   "metadata": {},
   "outputs": [
    {
     "name": "stdin",
     "output_type": "stream",
     "text": [
      "Enter a string  hi how are you\n"
     ]
    },
    {
     "name": "stdout",
     "output_type": "stream",
     "text": [
      "{'h': 2, 'i': 1, ' ': 3, 'o': 2, 'w': 1, 'a': 1, 'r': 1, 'e': 1, 'y': 1, 'u': 1}\n"
     ]
    }
   ],
   "source": [
    "# Your code here\n",
    "def dict_count(text):\n",
    "    counts = {}\n",
    "    for char in text:\n",
    "        if char in counts:\n",
    "            counts[char] += 1\n",
    "        else:\n",
    "            counts[char] = 1\n",
    "    return counts\n",
    "text = input(\"Enter a string \")\n",
    "print(dict_count(text))"
   ]
  },
  {
   "cell_type": "markdown",
   "id": "17629a07",
   "metadata": {},
   "source": [
    "### Question 20\n",
    "Write a function that returns True if all list elements are unique."
   ]
  },
  {
   "cell_type": "code",
   "execution_count": 24,
   "id": "fe4f8820",
   "metadata": {},
   "outputs": [
    {
     "name": "stdin",
     "output_type": "stream",
     "text": [
      "Enter the string hello siri\n"
     ]
    },
    {
     "name": "stdout",
     "output_type": "stream",
     "text": [
      "Elements are not unique\n"
     ]
    }
   ],
   "source": [
    "# Your code here\n",
    "def unique_elements(elements):\n",
    "    return len(elements) == len(set(elements))\n",
    "text=list(input(\"Enter the string\"))\n",
    "type(text)\n",
    "if unique_elements(text):\n",
    "    print(\"All elements are unique\")\n",
    "else:\n",
    "    print(\"Elements are not unique\")"
   ]
  },
  {
   "cell_type": "code",
   "execution_count": null,
   "id": "94b2a958-f7a0-433c-b8a2-b9738132dce6",
   "metadata": {},
   "outputs": [],
   "source": []
  }
 ],
 "metadata": {
  "kernelspec": {
   "display_name": "Python 3 (ipykernel)",
   "language": "python",
   "name": "python3"
  },
  "language_info": {
   "codemirror_mode": {
    "name": "ipython",
    "version": 3
   },
   "file_extension": ".py",
   "mimetype": "text/x-python",
   "name": "python",
   "nbconvert_exporter": "python",
   "pygments_lexer": "ipython3",
   "version": "3.13.2"
  }
 },
 "nbformat": 4,
 "nbformat_minor": 5
}
